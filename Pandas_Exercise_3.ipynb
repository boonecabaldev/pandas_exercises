{
  "cells": [
    {
      "cell_type": "markdown",
      "metadata": {
        "id": "view-in-github",
        "colab_type": "text"
      },
      "source": [
        "<a href=\"https://colab.research.google.com/github/boonecabaldev/pandas_exercises/blob/main/Pandas_Exercise_3.ipynb\" target=\"_parent\"><img src=\"https://colab.research.google.com/assets/colab-badge.svg\" alt=\"Open In Colab\"/></a>"
      ]
    },
    {
      "cell_type": "markdown",
      "source": [
        "# Pandas Exercise Set 3"
      ],
      "metadata": {
        "id": "2GNzQ5HZk2yk"
      }
    },
    {
      "cell_type": "markdown",
      "source": [
        "Another stimulating `pandas` exercise set, fiend. Now leave, please."
      ],
      "metadata": {
        "id": "Ht4Q7KZZjRJy"
      }
    },
    {
      "cell_type": "markdown",
      "source": [
        "## Problem 1: Website Traffic Analysis"
      ],
      "metadata": {
        "id": "BMmPU0a4kzOG"
      }
    },
    {
      "cell_type": "markdown",
      "source": [
        "\n",
        "**File:** `web_traffic.csv`\n",
        "\n",
        "```\n",
        "SessionID,PageURL,Timestamp,DurationSeconds\n",
        "12345,https://www.example.com/,2023-11-25 10:15:00,60\n",
        "67890,https://www.example.com/products,2023-11-25 11:30:00,120\n",
        "23456,https://www.example.com/about,2023-11-26 09:45:00,90\n",
        "89012,https://www.example.com/,2023-11-26 15:20:00,30\n",
        "54321,https://www.example.com/contact,2023-11-27 14:10:00,75\n",
        "```\n",
        "\n",
        "**Tasks:**\n",
        "\n",
        "1. Read the CSV into a DataFrame, parsing `Timestamp` as datetime.\n",
        "2. Calculate the average session duration per page.\n",
        "3. Find the peak traffic hour (based on the `Timestamp` column).\n",
        "4. Determine the most visited page.\n",
        "\n",
        "**Solution:**"
      ],
      "metadata": {
        "id": "-PO9SKqTksld"
      }
    },
    {
      "cell_type": "code",
      "source": [
        "import pandas as pd\n",
        "\n",
        "# 1. Read CSV with datetime parsing\n",
        "df_traffic = pd.read_csv('sample_data/web_traffic.csv', parse_dates=['Timestamp'])\n",
        "\n",
        "# 2. Calculate the average session duration per page (pivot_table).\n",
        "#\n",
        "# NOTE: We're building three columns (series), and then building a dataframe from them.\n",
        "#\n",
        "# Get DurationSeconds series for each PageURL\n",
        "durations = df_traffic.groupby('PageURL')['DurationSeconds'].sum()\n",
        "# Calculate average duration for each PageURL\n",
        "average_durations = df_traffic.groupby('PageURL')['DurationSeconds'].mean()\n",
        "# Count occurrences of each PageURL\n",
        "counts = df_traffic['PageURL'].value_counts()\n",
        "# Combine the results into a DataFrame\n",
        "result = pd.DataFrame({\n",
        "    'Count': counts,\n",
        "    'Duration': durations,\n",
        "    'AvgDuration': average_durations\n",
        "})\n",
        "print(result)\n",
        "\n",
        "# 3. Find the peak traffic hour (based on the Timestamp column).\n",
        "#\n",
        "# Add PeakTrafficHour timestamp column from Timestamp to df\n",
        "df_traffic['PeakTrafficHour'] = pd.to_datetime(df_traffic['Timestamp']).dt.hour\n",
        "# Group by hour and calculate total traffic\n",
        "peak_traffic_hour = df_traffic.groupby('PeakTrafficHour')['PeakTrafficHour'].count().idxmax()\n",
        "# Delete PeakTrafficHour; no longer needed\n",
        "df_traffic.drop('PeakTrafficHour', axis=1, inplace=True)\n",
        "print(f\"\\nPeak traffic hour: {peak_traffic_hour}:00\")\n",
        "\n",
        "# 4. Determine the most visited page.\n",
        "#\n",
        "# Count the occurences of each value in column PageURL\n",
        "most_visited_page = df_traffic['PageURL'].value_counts().idxmax()\n",
        "print(f\"Most visited page: {most_visited_page}\")"
      ],
      "outputs": [
        {
          "output_type": "stream",
          "name": "stdout",
          "text": [
            "                                  Count  Duration  AvgDuration\n",
            "PageURL                                                       \n",
            "https://www.example.com/              2        90         45.0\n",
            "https://www.example.com/about         1        90         90.0\n",
            "https://www.example.com/contact       1        75         75.0\n",
            "https://www.example.com/products      1       120        120.0\n",
            "\n",
            "Peak traffic hour: 9:00\n",
            "Most visited page: https://www.example.com/\n"
          ]
        }
      ],
      "execution_count": null,
      "metadata": {
        "id": "84P9WLL2jRJ6",
        "colab": {
          "base_uri": "https://localhost:8080/"
        },
        "outputId": "510d3ae8-e6a0-4486-e086-97975286fbb7"
      }
    },
    {
      "cell_type": "markdown",
      "source": [
        "**Original Solution**\n",
        "\n",
        "```python\n",
        "import pandas as pd\n",
        "\n",
        "# Read CSV with datetime parsing\n",
        "df_traffic = pd.read_csv('sample_data/web_traffic.csv', parse_dates=['Timestamp'])\n",
        "\n",
        "# Most visited page\n",
        "most_visited_page = df_traffic['PageURL'].value_counts().idxmax()\n",
        "visit_count = df_traffic['PageURL'].value_counts().max()\n",
        "print(f\"\\nMost visited page: '{most_visited_page}' with {visit_count} visits\")\n",
        "\n",
        "# Average session duration per page\n",
        "avg_duration_per_page = df_traffic.groupby('PageURL')['DurationSeconds'].mean()\n",
        "print(\"\\nAverage session duration per page:\")\n",
        "print(avg_duration_per_page.to_markdown(numalign=\"left\", stralign=\"left\"))\n",
        "\n",
        "# Peak traffic hour\n",
        "df_traffic['Hour'] = df_traffic['Timestamp'].dt.hour\n",
        "peak_hour = df_traffic['Hour'].value_counts().idxmax()\n",
        "print(f\"\\nPeak traffic hour: {peak_hour}:00\")\n",
        "```\n",
        "\n"
      ],
      "metadata": {
        "id": "so-nJjZYkD8d"
      }
    },
    {
      "cell_type": "markdown",
      "source": [
        "```text\n",
        "\n",
        "```"
      ],
      "metadata": {
        "id": "-QXLlx08j10u"
      }
    },
    {
      "cell_type": "markdown",
      "source": [
        "## Problem 2:  Sales Performance Analysis"
      ],
      "metadata": {
        "id": "k5J6kwwrjRJ8"
      }
    },
    {
      "cell_type": "markdown",
      "source": [
        "**File:** `sales_performance.csv`\n",
        "\n",
        "```\n",
        "Salesperson,Region,Product,Date,UnitsSold,Revenue\n",
        "Alice,North,ProductA,2023-11-01,10,500\n",
        "Bob,South,ProductB,2023-11-02,15,750\n",
        "Charlie,East,ProductA,2023-11-03,8,400\n",
        "Alice,North,ProductC,2023-11-05,12,600\n",
        "Bob,South,ProductA,2023-11-07,5,250\n",
        "```\n",
        "\n",
        "**Tasks:**\n",
        "\n",
        "1. Read the CSV into a DataFrame, parsing `Date` as datetime.\n",
        "2. Find the top-performing salesperson based on total units sold.\n",
        "3. Calculate the total revenue per region.\n",
        "4. Determine the average units sold per product.\n",
        "5. Create a pivot table summarizing sales by salesperson and product.\n",
        "\n",
        "**Solution:**"
      ],
      "metadata": {
        "id": "j4k1Qt8sliYN"
      }
    },
    {
      "cell_type": "code",
      "source": [
        "import pandas as pd\n",
        "\n",
        "# 1. Read the CSV into a DataFrame, parsing Date as datetime.\n",
        "df_sales = pd.read_csv('sample_data/sales_performance.csv', parse_dates=['Date'])\n",
        "\n",
        "# 2. Find the top-performing salesperson based on total units sold.\n",
        "top_performer = df_sales.groupby('Salesperson')['UnitsSold'].sum().idxmax()\n",
        "print(f\"\\nTop performing salesperson by units sold: {top_performer}\")\n",
        "\n",
        "# 3. Calculate the total revenue per region.\n",
        "total_revenue_per_region_str = df_sales.groupby('Region')['Revenue'] \\\n",
        "  .sum() \\\n",
        "  .to_markdown(numalign=\"right\", stralign=\"left\")\n",
        "print(f\"\\n{total_revenue_per_region_str}\")\n",
        "\n",
        "# 4. Determine the average units sold per product.\n",
        "avg_units_per_product_str = df_sales.groupby('Product')['UnitsSold'] \\\n",
        "  .mean() \\\n",
        "  .reset_index(name='AvgUnitsSold') \\\n",
        "  .set_index('Product') \\\n",
        "  .to_markdown(numalign=\"right\", stralign=\"left\")\n",
        "print(f\"\\n{avg_units_per_product_str}\")\n",
        "\n",
        "# 4. Create a pivot table summarizing sales by salesperson and product.\n",
        "df_sales['UnitsSold'] = df_sales['UnitsSold'].astype(float)\n",
        "sales = df_sales.pivot_table(\n",
        "      values='UnitsSold'\n",
        "    , index='Salesperson'\n",
        "    , columns='Product'\n",
        "    , aggfunc='sum'\n",
        "    , fill_value=0.0) \\\n",
        "    \\\n",
        "    .to_markdown(numalign=\"right\", stralign=\"left\")\n",
        "print(f\"\\n{sales}\")"
      ],
      "outputs": [
        {
          "output_type": "stream",
          "name": "stdout",
          "text": [
            "\n",
            "Top performing salesperson by units sold: Alice\n",
            "\n",
            "| Region   |   Revenue |\n",
            "|:---------|----------:|\n",
            "| East     |       400 |\n",
            "| North    |      1100 |\n",
            "| South    |      1000 |\n",
            "\n",
            "| Product   |   AvgUnitsSold |\n",
            "|:----------|---------------:|\n",
            "| ProductA  |        7.66667 |\n",
            "| ProductB  |             15 |\n",
            "| ProductC  |             12 |\n",
            "\n",
            "| Salesperson   |   ProductA |   ProductB |   ProductC |\n",
            "|:--------------|-----------:|-----------:|-----------:|\n",
            "| Alice         |         10 |          0 |         12 |\n",
            "| Bob           |          5 |         15 |          0 |\n",
            "| Charlie       |          8 |          0 |          0 |\n"
          ]
        }
      ],
      "execution_count": null,
      "metadata": {
        "id": "dhChoDGIjRJ9",
        "colab": {
          "base_uri": "https://localhost:8080/"
        },
        "outputId": "7ad8cf5f-34fb-494b-9be2-7c1d692a429a"
      }
    },
    {
      "cell_type": "markdown",
      "source": [
        "**Original Solution**\n",
        "\n",
        "```python\n",
        "import pandas as pd\n",
        "\n",
        "# Read CSV with date parsing\n",
        "df_sales = pd.read_csv('sample_data/sales_performance.csv', parse_dates=['Date'])\n",
        "\n",
        "# Top performer by units sold\n",
        "top_performer = df_sales.groupby('Salesperson')['UnitsSold'].sum().idxmax()\n",
        "print(f\"\\nTop performing salesperson by units sold: {top_performer}\")\n",
        "\n",
        "# Total revenue per region\n",
        "revenue_per_region = df_sales.groupby('Region')['Revenue'].sum()\n",
        "print(\"\\nTotal revenue per region:\")\n",
        "print(revenue_per_region.to_markdown(numalign=\"left\", stralign=\"left\"))\n",
        "\n",
        "# Average units sold per product\n",
        "avg_units_per_product = df_sales.groupby('Product')['UnitsSold'].mean()\n",
        "print(\"\\nAverage units sold per product:\")\n",
        "print(avg_units_per_product.to_markdown(numalign=\"left\", stralign=\"left\"))\n",
        "\n",
        "# Pivot table\n",
        "sales_pivot = pd.pivot_table(df_sales, index='Salesperson', columns='Product', values='UnitsSold', aggfunc='sum')\n",
        "print(\"\\nSales summary pivot table:\")\n",
        "print(sales_pivot.to_markdown(numalign=\"left\", stralign=\"left\"))\n",
        "```\n",
        "\n",
        "**Result**\n",
        "```text\n"
      ],
      "metadata": {
        "id": "fQdgvkfVmAAf"
      }
    }
  ],
  "metadata": {
    "colab": {
      "provenance": [],
      "collapsed_sections": [
        "BMmPU0a4kzOG"
      ],
      "include_colab_link": true
    },
    "kernelspec": {
      "display_name": "Python 3",
      "name": "python3"
    }
  },
  "nbformat": 4,
  "nbformat_minor": 0
}
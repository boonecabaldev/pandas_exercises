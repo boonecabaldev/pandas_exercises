{
  "nbformat": 4,
  "nbformat_minor": 0,
  "metadata": {
    "colab": {
      "provenance": [],
      "authorship_tag": "ABX9TyPxxS/ZCT/XyXmsFg3uaxym",
      "include_colab_link": true
    },
    "kernelspec": {
      "name": "python3",
      "display_name": "Python 3"
    },
    "language_info": {
      "name": "python"
    }
  },
  "cells": [
    {
      "cell_type": "markdown",
      "metadata": {
        "id": "view-in-github",
        "colab_type": "text"
      },
      "source": [
        "<a href=\"https://colab.research.google.com/github/boonecabaldev/pandas_exercises/blob/main/My_Pandas_Experiments.ipynb\" target=\"_parent\"><img src=\"https://colab.research.google.com/assets/colab-badge.svg\" alt=\"Open In Colab\"/></a>"
      ]
    },
    {
      "cell_type": "markdown",
      "source": [
        "# My Pandas Experiments"
      ],
      "metadata": {
        "id": "Vvum3QoeM1la"
      }
    },
    {
      "cell_type": "markdown",
      "source": [
        "## Selecting"
      ],
      "metadata": {
        "id": "TVnEDfx6M604"
      }
    },
    {
      "cell_type": "code",
      "execution_count": 14,
      "metadata": {
        "colab": {
          "base_uri": "https://localhost:8080/"
        },
        "id": "5yL6-haeA97C",
        "outputId": "52bece25-5cb3-440e-e77e-2faa54b97f2b"
      },
      "outputs": [
        {
          "output_type": "stream",
          "name": "stdout",
          "text": [
            "|    | FirstName   | LastName   |   Age | Gender   |\n",
            "|---:|:------------|:-----------|------:|:---------|\n",
            "|  0 | Alice       | Smith      |    25 | female   |\n",
            "\n",
            "|    | FirstName   | LastName   |   Age | Gender   | Title           |\n",
            "|---:|:------------|:-----------|------:|:---------|:----------------|\n",
            "|  0 | Alice       | Smith      |    25 | female   | Ms. Alice Smith |\n"
          ]
        }
      ],
      "source": [
        "import pandas as pd\n",
        "\n",
        "data = {'FirstName': ['Alice', 'Bob', 'Charlie', 'David', 'Emily', 'Frank'],\n",
        "        'LastName': ['Smith', 'Jones', 'Williams', 'Brown', 'Davis', 'Miller'],\n",
        "        'Age': [25, 32, 28, 41, 29, 35],\n",
        "        'Gender': ['female', 'male', 'male', 'male', 'female', 'male']}\n",
        "\n",
        "df = pd.DataFrame(data)\n",
        "df = df[ df['FirstName'] == 'Alice']\n",
        "print(f\"{df.to_markdown()}\")\n",
        "\n",
        "prefix = df.apply(lambda x: \"Mr.\" if x['Gender'] == 'male' else 'Ms.', axis=1)\n",
        "df['Title'] = prefix + \" \" + df['FirstName'] + \" \" + df['LastName']\n",
        "print(f\"\\n{df.to_markdown()}\")\n"
      ]
    },
    {
      "cell_type": "markdown",
      "source": [
        "## `loc()`"
      ],
      "metadata": {
        "id": "wZRsP7oqMxOL"
      }
    },
    {
      "cell_type": "code",
      "source": [
        "import pandas as pd\n",
        "\n",
        "df = pd.DataFrame({'A': [1, 2, 3], 'B': [4, 5, 6]}, index=['row1', 'row2', 'row3'])\n",
        "print(f\"{df.to_markdown()}\")\n",
        "\n",
        "# Select row with label 'row2'\n",
        "print(\"\\nSelect row with label 'row2'\")\n",
        "print(f\"{df.loc['row2']}\")\n",
        "\n",
        "# Select rows with labels 'row1' and 'row3' and column 'B'\n",
        "print(\"\\nSelect rows with labels 'row1' and 'row3' and column 'B'\")\n",
        "print(f\"{df.loc[['row1', 'row3'], 'B']}\")"
      ],
      "metadata": {
        "id": "nqqMVJTEBP8B",
        "colab": {
          "base_uri": "https://localhost:8080/"
        },
        "outputId": "c21955c2-96e7-4b7e-df95-bec528b148e5"
      },
      "execution_count": 21,
      "outputs": [
        {
          "output_type": "stream",
          "name": "stdout",
          "text": [
            "|      |   A |   B |\n",
            "|:-----|----:|----:|\n",
            "| row1 |   1 |   4 |\n",
            "| row2 |   2 |   5 |\n",
            "| row3 |   3 |   6 |\n",
            "\n",
            "Select row with label 'row2'\n",
            "A    2\n",
            "B    5\n",
            "Name: row2, dtype: int64\n",
            "\n",
            "Select rows with labels 'row1' and 'row3' and column 'B'\n",
            "row1    4\n",
            "row3    6\n",
            "Name: B, dtype: int64\n"
          ]
        }
      ]
    },
    {
      "cell_type": "code",
      "source": [],
      "metadata": {
        "id": "JoV1gZboKzui"
      },
      "execution_count": null,
      "outputs": []
    }
  ]
}